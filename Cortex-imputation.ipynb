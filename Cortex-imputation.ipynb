{
 "cells": [
  {
   "cell_type": "markdown",
   "metadata": {},
   "source": [
    "# Imputation results of scPI-based methods (Cortex)"
   ]
  },
  {
   "cell_type": "code",
   "execution_count": 1,
   "metadata": {},
   "outputs": [],
   "source": [
    "import numpy as np\n",
    "import torch\n",
    "import pandas as pd\n",
    "import matplotlib.pyplot as plt\n",
    "import seaborn as sns\n",
    "plt.style.use('ggplot')\n",
    "import time\n",
    "from scPI import scPI_FA\n",
    "from scPI import scPI_ZIFA\n",
    "from scPI import scPI_ZINB\n",
    "from utils import *\n",
    "from sklearn.decomposition import FactorAnalysis\n",
    "from sklearn.metrics import silhouette_score\n",
    "from sklearn.cluster import KMeans\n",
    "from sklearn.metrics import normalized_mutual_info_score as NMI\n",
    "from sklearn.metrics import adjusted_rand_score as ARI\n",
    "def cluster_scores(latent_space, K, labels_true):\n",
    "    labels_pred = KMeans(K, n_jobs=8, n_init=20).fit_predict(latent_space)\n",
    "    return [silhouette_score(latent_space, labels_true), NMI(labels_true, labels_pred), ARI(labels_true, labels_pred)]\n",
    "n_celltype = 7\n",
    "n_repeat = 10"
   ]
  },
  {
   "cell_type": "code",
   "execution_count": 2,
   "metadata": {},
   "outputs": [],
   "source": [
    "def imputation_error(X_mean, X, X_zero, i, j, ix):\n",
    "    \"\"\"\n",
    "    X_mean: imputed dataset\n",
    "    X: original dataset\n",
    "    X_zero: zeros dataset\n",
    "    i, j, ix: indices of where dropout was applied\n",
    "    ========\n",
    "    returns:\n",
    "    median L1 distance between datasets at indices given\n",
    "    \"\"\"\n",
    "    all_index = i[ix], j[ix]\n",
    "    x, y = X_mean[all_index], X[all_index]\n",
    "    return np.median(np.abs(x - y))\n",
    "\n",
    "X = np.loadtxt(\"/Users/jiazhao/Downloads/Results/Cortex/data_train\", dtype='float32')\n",
    "X_zero = np.loadtxt(\"/Users/jiazhao/Downloads/Results/Cortex/imputation/X_zero.txt\", dtype='float32')\n",
    "data_path = \"/Users/jiazhao/Downloads/Results/Cortex/imputation/\"\n",
    "i = np.load(data_path + \"i.npy\")\n",
    "j = np.load(data_path + \"j.npy\")\n",
    "ix = np.load(data_path + \"ix.npy\")\n",
    "n_repeat = 10"
   ]
  },
  {
   "cell_type": "markdown",
   "metadata": {},
   "source": [
    "### example of performing scPI-FA, scPI-ZIFA, scPI-ZINB (vary n_epoch and linearity)"
   ]
  },
  {
   "cell_type": "markdown",
   "metadata": {},
   "source": [
    "When evaluating the impact of the number of epochs, we vary n_epoch to be $\\{250,500,10000\\}$. When evaluating the impact of the linearity and non-linearity, we vary non_linear to be False or True. We repeat the experiments ten times to draw boxplots. Note: we use learning rate 1e-3 for scPI-ZIFA-linear, and learning rate 5e-4 for all the other methods."
   ]
  },
  {
   "cell_type": "code",
   "execution_count": null,
   "metadata": {},
   "outputs": [],
   "source": [
    "X_zero = np.log(np.loadtxt(data_path + \"X_zero.txt\", dtype='float32') + 1)\n",
    "n_repeat = 10\n",
    "file_name = \"scPI_FA\"\n",
    "for k in range(n_repeat):\n",
    "    result, result_test = scPI_FA.fitModel(Y=X_zero, K=10, batch_size=128, n_epoch=500, lr=5e-4, non_linear=True, Y_test=None)\n",
    "    A = result[\"A\"]\n",
    "    Z = result[\"latent\"]\n",
    "    mu = result[\"mu\"]\n",
    "    X_impu = np.exp(Z @ A.T + mu.reshape([1, D])) - 1\n",
    "    impu_err = imputation_error(X_impu, X_true, np.exp(X_zero)-1, i, j, ix)\n",
    "    np.savetxt(str(k) + file_name + '_imperr.txt', np.array(impu_err).reshape([-1]))"
   ]
  },
  {
   "cell_type": "code",
   "execution_count": null,
   "metadata": {},
   "outputs": [],
   "source": [
    "n_repeat = 10\n",
    "file_name = \"scPI_ZIFA\"\n",
    "for k in range(n_repeat):\n",
    "    result, result_test = scPI_ZIFA.fitModel(Y=expression_train, K=10, batch_size=128, n_epoch=500, lr=5e-4, act_nng_exp=True, non_linear=True, Y_test=None)\n",
    "    # save training results\n",
    "    A = result[\"A\"]\n",
    "    Z = result[\"latent\"]\n",
    "    mu = result[\"mu\"]\n",
    "    X_impu = np.exp(Z @ A.T + mu.reshape([1, D])) - 1\n",
    "    impu_err = imputation_error(X_impu, X_true, np.exp(expression_train)-1, i, j, ix)\n",
    "    np.savetxt(str(k) + file_name + '_imperr.txt', np.array(impu_err).reshape([-1]))"
   ]
  },
  {
   "cell_type": "code",
   "execution_count": null,
   "metadata": {},
   "outputs": [],
   "source": [
    "n_repeat = 10\n",
    "file_name = \"scPI_ZINB\"\n",
    "for k in range(n_repeat):\n",
    "    result, result_test = scPI_ZINB.fitModel(Y=expression_train, K=10, batch_size=128, n_epoch=500, lr=5e-4, non_linear=True, act_nn_exp=True, Y_test=None)\n",
    "    # save training results\n",
    "    X_impu = result[\"rho\"]\n",
    "    impu_err = imputation_error(X_impu, X_true, expression_train, i, j, ix)\n",
    "    np.savetxt(str(k) + file_name + '_imperr.txt', np.array(impu_err).reshape([-1]))"
   ]
  },
  {
   "cell_type": "markdown",
   "metadata": {},
   "source": [
    "### Impact of the number of epochs on imputation error"
   ]
  },
  {
   "cell_type": "code",
   "execution_count": 5,
   "metadata": {},
   "outputs": [],
   "source": [
    "# ZIFA \n",
    "n_repeat = 10\n",
    "zifa = np.zeros([n_repeat,])\n",
    "N, D = X_zero.shape\n",
    "data_path = \"/Users/jiazhao/Downloads/Results/Cortex/ZIFA/\"\n",
    "A  = np.loadtxt(data_path + \"0impu_CORTEX_ZIFA_A.txt\")\n",
    "mu = np.loadtxt(data_path + \"0impu_CORTEX_ZIFA_mus.txt\")\n",
    "Z  = np.loadtxt(data_path + \"0impu_CORTEX_ZIFA_Z.txt\")\n",
    "Xtilde = Z @ A.T + mu.reshape([1, D])\n",
    "imp_err = imputation_error(np.exp(Xtilde)-1, X, X_zero, i, j, ix)\n",
    "for t in range(n_repeat):\n",
    "    zifa[t] = imp_err\n",
    "\n",
    "# ZINB\n",
    "zinb = np.zeros([n_repeat,])\n",
    "data_path = \"/Users/jiazhao/Downloads/Results/Cortex/ZINB/\"\n",
    "for t in range(n_repeat):\n",
    "    Xtilde  = np.loadtxt(data_path + str(t) + \"impu_CORTEX_ZINB_Xtilde.txt\")\n",
    "    imp_err = imputation_error(Xtilde, X, X_zero, i, j, ix)\n",
    "    zinb[t] = imp_err\n",
    "\n",
    "# FA\n",
    "fa = np.zeros([n_repeat,])\n",
    "data_path = \"/Users/jiazhao/Downloads/Results/Cortex/FA/imputation/\"\n",
    "for t in range(n_repeat):\n",
    "    fa[t]  = np.loadtxt(data_path + str(t) + \"impu_CORTEX_FA_imperr.txt\")\n",
    "\n",
    "# zifa-nln\n",
    "zifa_nln = np.zeros([n_repeat,])\n",
    "data_path = \"/Users/jiazhao/Downloads/Results/Cortex/scPI_ZIFA/500-impu/\"\n",
    "for t in range(n_repeat):\n",
    "    zifa_nln[t]  = np.loadtxt(data_path + str(t) + \"impu_CORTEX_ZIFAVAE_nonlinear_imperr.txt\")\n",
    "\n",
    "# zifa-nln\n",
    "zifa_nln_1w = np.zeros([n_repeat,])\n",
    "data_path = \"/Users/jiazhao/Downloads/Results/Cortex/scPI_ZIFA/10K-impu/\"\n",
    "for t in range(n_repeat):\n",
    "    zifa_nln_1w[t]  = np.loadtxt(data_path + str(t) + \"impu_CORTEX_ZIFAVAE_nonlinear_imperr.txt\")\n",
    "\n",
    "# zifa-nln\n",
    "zifa_nln_250 = np.zeros([n_repeat,])\n",
    "data_path = \"/Users/jiazhao/Downloads/Results/Cortex/scPI_ZIFA/250-impu/\"\n",
    "for t in range(n_repeat):\n",
    "    zifa_nln_250[t]  = np.loadtxt(data_path + str(t) + \"impu_CORTEX_ZIFAVAE_nonlinear_imperr.txt\")\n",
    "\n",
    "# zinb-nln\n",
    "zinb_nln = np.zeros([n_repeat,])\n",
    "data_path = \"/Users/jiazhao/Downloads/Results/Cortex/scPI_ZINB/500-impu/\"\n",
    "for t in range(n_repeat):\n",
    "    zinb_nln[t]  = np.loadtxt(data_path + str(t) + \"impu_CORTEX_ZINBVAE_nonlinear_imperr.txt\")\n",
    "\n",
    "# zinb-nln\n",
    "zinb_nln_1w = np.zeros([n_repeat,])\n",
    "data_path = \"/Users/jiazhao/Downloads/Results/Cortex/scPI_ZINB/10K-impu/\"\n",
    "for t in range(n_repeat):\n",
    "    zinb_nln_1w[t]  = np.loadtxt(data_path + str(t) + \"impu_CORTEX_ZINBVAE_nonlinear_imperr.txt\")\n",
    "\n",
    "# zinb-nln\n",
    "zinb_nln_250 = np.zeros([n_repeat,])\n",
    "data_path = \"/Users/jiazhao/Downloads/Results/Cortex/scPI_ZINB/250-impu/\"\n",
    "for t in range(n_repeat):\n",
    "    zinb_nln_250[t]  = np.loadtxt(data_path + str(t) + \"impu_CORTEX_ZINBVAE_nonlinear_imperr.txt\")\n",
    "\n",
    "# fa-nln\n",
    "fa_nln = np.zeros([n_repeat,])\n",
    "data_path = \"/Users/jiazhao/Downloads/Results/Cortex/scPI_FA/500-impu/\"\n",
    "for t in range(n_repeat):\n",
    "    fa_nln[t]  = np.loadtxt(data_path + str(t) + \"impu_CORTEX_FAVAE_nonlinear_imperr.txt\")\n",
    "\n",
    "# fa-nln\n",
    "fa_nln_1w = np.zeros([n_repeat,])\n",
    "data_path = \"/Users/jiazhao/Downloads/Results/Cortex/scPI_FA/10K-impu/\"\n",
    "for t in range(n_repeat):\n",
    "    fa_nln_1w[t]  = np.loadtxt(data_path + str(t) + \"impu_CORTEX_FAVAE_nonlinear_imperr.txt\")\n",
    "\n",
    "# fa-nln\n",
    "fa_nln_250 = np.zeros([n_repeat,])\n",
    "data_path = \"/Users/jiazhao/Downloads/Results/Cortex/scPI_FA/250-impu/\"\n",
    "for t in range(n_repeat):\n",
    "    fa_nln_250[t]  = np.loadtxt(data_path + str(t) + \"impu_CORTEX_FAVAE_nonlinear_imperr.txt\")\n"
   ]
  },
  {
   "cell_type": "code",
   "execution_count": 6,
   "metadata": {},
   "outputs": [],
   "source": [
    "n_repeat = 10\n",
    "model = list(\"FA\" for _ in range(n_repeat)) + \\\n",
    "        list(\"scPI-FA-10K\" for _ in range(n_repeat)) + \\\n",
    "        list(\"scPI-FA-500\" for _ in range(n_repeat)) + \\\n",
    "        list(\"scPI-FA-250\" for _ in range(n_repeat)) + \\\n",
    "        list(\"ZIFA\" for _ in range(n_repeat)) + \\\n",
    "        list(\"scPI-ZIFA-10K\" for _ in range(n_repeat)) + \\\n",
    "        list(\"scPI-ZIFA-500\" for _ in range(n_repeat)) + \\\n",
    "        list(\"scPI-ZIFA-250\" for _ in range(n_repeat)) + \\\n",
    "        list(\"ZINB\" for _ in range(n_repeat)) + \\\n",
    "        list(\"scPI-ZINB-10K\" for _ in range(n_repeat)) + \\\n",
    "        list(\"scPI-ZINB-500\" for _ in range(n_repeat)) + \\\n",
    "        list(\"scPI-ZINB-250\" for _ in range(n_repeat))\n",
    "error = list(fa) + list(fa_nln_1w) + list(fa_nln) + list(fa_nln_250) + \\\n",
    "        list(zifa) + list(zifa_nln_1w) + list(zifa_nln) + list(zifa_nln_250) + \\\n",
    "        list(zinb) + list(zinb_nln_1w) + list(zinb_nln) + list(zinb_nln_250)"
   ]
  },
  {
   "cell_type": "code",
   "execution_count": 7,
   "metadata": {},
   "outputs": [
    {
     "data": {
      "text/plain": [
       "Text(0.5,1,'Cortex')"
      ]
     },
     "execution_count": 7,
     "metadata": {},
     "output_type": "execute_result"
    },
    {
     "data": {
      "image/png": "[encoded data removed]",
      "text/plain": [
       "<Figure size 600x400 with 1 Axes>"
      ]
     },
     "metadata": {},
     "output_type": "display_data"
    }
   ],
   "source": [
    "d = {'model': model, 'error': error}\n",
    "df = pd.DataFrame(data=d)\n",
    "fig = plt.figure(dpi=100)\n",
    "grid = plt.GridSpec(1, 10, wspace=0.2, hspace=0.2)\n",
    "ax = plt.subplot(grid[:, 2:10])\n",
    "sns.boxplot(y=\"model\", x=\"error\", data=df)\n",
    "ax.artists[0].set_facecolor('tab:red')\n",
    "ax.artists[1].set_facecolor('tab:red')\n",
    "ax.artists[2].set_facecolor('tab:red')\n",
    "ax.artists[3].set_facecolor('tab:red')\n",
    "ax.artists[4].set_facecolor('tab:blue')\n",
    "ax.artists[5].set_facecolor('tab:blue')\n",
    "ax.artists[6].set_facecolor('tab:blue')\n",
    "ax.artists[7].set_facecolor('tab:blue')\n",
    "ax.artists[8].set_facecolor('tab:green')\n",
    "ax.artists[9].set_facecolor('tab:green')\n",
    "ax.artists[10].set_facecolor('tab:green')\n",
    "ax.artists[11].set_facecolor('tab:green')\n",
    "plt.xlabel('Imputation error', fontsize=15)\n",
    "plt.ylabel('', fontsize=15)\n",
    "plt.xticks(fontsize=12)\n",
    "plt.yticks(fontsize=12)\n",
    "plt.title(\"Cortex\", fontsize=18)"
   ]
  },
  {
   "cell_type": "markdown",
   "metadata": {},
   "source": [
    "### Impact of the linearity on imputation error"
   ]
  },
  {
   "cell_type": "code",
   "execution_count": 11,
   "metadata": {},
   "outputs": [],
   "source": [
    "# zifa-ln\n",
    "zifa_ln = np.zeros([n_repeat,])\n",
    "data_path = \"/Users/jiazhao/Downloads/Results/Cortex/scPI_ZIFA_linear/500-impu/\"\n",
    "for t in range(n_repeat):\n",
    "    zifa_ln[t]  = np.loadtxt(data_path + str(t) + \"impu_CORTEX_ZIFAVAE_linear_imperr.txt\")\n",
    "\n",
    "# zinb-ln\n",
    "zinb_ln = np.zeros([n_repeat,])\n",
    "data_path = \"/Users/jiazhao/Downloads/Results/Cortex/scPI_ZINB_linear/500-impu/\"\n",
    "for t in range(n_repeat):\n",
    "    zinb_ln[t]  = np.loadtxt(data_path + str(t) + \"impu_CORTEX_ZINBVAE_linear_imperr.txt\")\n",
    "\n",
    "# fa-ln\n",
    "fa_ln = np.zeros([n_repeat,])\n",
    "data_path = \"/Users/jiazhao/Downloads/Results/Cortex/scPI_FA_linear/500-impu/\"\n",
    "for t in range(n_repeat):\n",
    "    fa_ln[t]  = np.loadtxt(data_path + str(t) + \"impu_CORTEX_FAVAE_linear_imperr.txt\")\n",
    "    \n",
    "# scvi\n",
    "scvi = np.zeros([n_repeat,])\n",
    "data_path = \"/Users/jiazhao/Downloads/Results/Cortex/scVI/imputation/\"\n",
    "for t in range(n_repeat):\n",
    "    scvi[t]  = np.loadtxt(data_path + str(t) + \"impu_CORTEX_scVI_imperr.txt\")"
   ]
  },
  {
   "cell_type": "code",
   "execution_count": 12,
   "metadata": {},
   "outputs": [
    {
     "data": {
      "text/plain": [
       "Text(0.5,1,'Cortex')"
      ]
     },
     "execution_count": 12,
     "metadata": {},
     "output_type": "execute_result"
    },
    {
     "data": {
      "image/png": "[encoded data removed]",
      "text/plain": [
       "<Figure size 600x400 with 1 Axes>"
      ]
     },
     "metadata": {},
     "output_type": "display_data"
    }
   ],
   "source": [
    "n_repeat = 10\n",
    "model = list(\"FA\" for _ in range(n_repeat)) + \\\n",
    "        list(\"scPI-FA\" for _ in range(n_repeat)) + \\\n",
    "        list(\"scPI-FA-linear\" for _ in range(n_repeat)) + \\\n",
    "        list(\"ZIFA\" for _ in range(n_repeat)) + \\\n",
    "        list(\"scPI-ZIFA\" for _ in range(n_repeat)) + \\\n",
    "        list(\"scPI-ZIFA-linear\" for _ in range(n_repeat)) + \\\n",
    "        list(\"ZINB\" for _ in range(n_repeat)) + \\\n",
    "        list(\"scPI-ZINB\" for _ in range(n_repeat)) + \\\n",
    "        list(\"scPI-ZINB-linear\" for _ in range(n_repeat)) + \\\n",
    "        list(\"scVI\" for _ in range(n_repeat)) \n",
    "error = list(fa) + list(fa_nln) + list(fa_ln) + \\\n",
    "        list(zifa) + list(zifa_nln) + list(zifa_ln) + \\\n",
    "        list(zinb) + list(zinb_nln) + list(zinb_ln) + list(scvi)\n",
    "\n",
    "d = {'model': model, 'error': error}\n",
    "df = pd.DataFrame(data=d)\n",
    "fig = plt.figure(dpi=100)\n",
    "grid = plt.GridSpec(1, 10, wspace=0.2, hspace=0.2)\n",
    "ax = plt.subplot(grid[:, 2:10])\n",
    "sns.boxplot(y=\"model\", x=\"error\", data=df)\n",
    "ax.artists[0].set_facecolor('tab:red')\n",
    "ax.artists[1].set_facecolor('tab:red')\n",
    "ax.artists[2].set_facecolor('tab:red')\n",
    "ax.artists[3].set_facecolor('tab:blue')\n",
    "ax.artists[4].set_facecolor('tab:blue')\n",
    "ax.artists[5].set_facecolor('tab:blue')\n",
    "ax.artists[6].set_facecolor('tab:green')\n",
    "ax.artists[7].set_facecolor('tab:green')\n",
    "ax.artists[8].set_facecolor('tab:green')\n",
    "ax.artists[9].set_facecolor('tab:green')\n",
    "plt.xlabel('Imputation error', fontsize=15)\n",
    "plt.ylabel('', fontsize=15)\n",
    "plt.xticks(fontsize=12)\n",
    "plt.yticks(fontsize=12)\n",
    "plt.title(\"Cortex\", fontsize=18)"
   ]
  },
  {
   "cell_type": "code",
   "execution_count": null,
   "metadata": {},
   "outputs": [],
   "source": []
  }
 ],
 "metadata": {
  "kernelspec": {
   "display_name": "Python 3",
   "language": "python",
   "name": "python3"
  },
  "language_info": {
   "codemirror_mode": {
    "name": "ipython",
    "version": 3
   },
   "file_extension": ".py",
   "mimetype": "text/x-python",
   "name": "python",
   "nbconvert_exporter": "python",
   "pygments_lexer": "ipython3",
   "version": "3.6.5"
  }
 },
 "nbformat": 4,
 "nbformat_minor": 2
}
