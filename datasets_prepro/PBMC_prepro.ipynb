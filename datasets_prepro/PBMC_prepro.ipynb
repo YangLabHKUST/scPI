{
 "cells": [
  {
   "cell_type": "markdown",
   "metadata": {},
   "source": [
    "## PBMC preprocessing"
   ]
  },
  {
   "cell_type": "markdown",
   "metadata": {},
   "source": [
    "We follow the preprocessing code from scVI (https://github.com/romain-lopez/scVI-reproducibility/blob/master/CORTEX-prepro.ipynb). \n",
    "\n",
    "Before running this notebook, users need to download the data by following scVI (https://github.com/romain-lopez/scVI-reproducibility/blob/master/CORTEX-prepro.ipynb). "
   ]
  },
  {
   "cell_type": "code",
   "execution_count": 1,
   "metadata": {},
   "outputs": [],
   "source": [
    "%load_ext autoreload\n",
    "%autoreload 2\n",
    "import pandas as pd\n",
    "import numpy as np\n",
    "\n",
    "from sklearn.model_selection import train_test_split\n",
    "import scipy.sparse\n",
    "import scipy.io\n",
    "import matplotlib.pyplot as plt\n",
    "%matplotlib inline\n",
    "plt.rcParams['pdf.fonttype'] = 42\n",
    "plt.rcParams['ps.fonttype'] = 42"
   ]
  },
  {
   "cell_type": "markdown",
   "metadata": {},
   "source": [
    "## Load expression data"
   ]
  },
  {
   "cell_type": "code",
   "execution_count": 8,
   "metadata": {},
   "outputs": [],
   "source": [
    "expression = pd.read_csv('/home/jzhaoaz/jiazhao/scPI_v2/package/datasets/pbmc/expression.txt', sep=\" \")"
   ]
  },
  {
   "cell_type": "code",
   "execution_count": 9,
   "metadata": {},
   "outputs": [
    {
     "data": {
      "text/html": [
       "<div>\n",
       "<style scoped>\n",
       "    .dataframe tbody tr th:only-of-type {\n",
       "        vertical-align: middle;\n",
       "    }\n",
       "\n",
       "    .dataframe tbody tr th {\n",
       "        vertical-align: top;\n",
       "    }\n",
       "\n",
       "    .dataframe thead th {\n",
       "        text-align: right;\n",
       "    }\n",
       "</style>\n",
       "<table border=\"1\" class=\"dataframe\">\n",
       "  <thead>\n",
       "    <tr style=\"text-align: right;\">\n",
       "      <th></th>\n",
       "      <th>ENSG00000279457</th>\n",
       "      <th>ENSG00000228463</th>\n",
       "      <th>ENSG00000237491</th>\n",
       "      <th>ENSG00000230368</th>\n",
       "      <th>ENSG00000188976</th>\n",
       "      <th>ENSG00000188290</th>\n",
       "      <th>ENSG00000187608</th>\n",
       "      <th>ENSG00000186891</th>\n",
       "      <th>ENSG00000186827</th>\n",
       "      <th>ENSG00000078808</th>\n",
       "      <th>...</th>\n",
       "      <th>ENSG00000198899</th>\n",
       "      <th>ENSG00000198938</th>\n",
       "      <th>ENSG00000198840</th>\n",
       "      <th>ENSG00000212907</th>\n",
       "      <th>ENSG00000198886</th>\n",
       "      <th>ENSG00000198786</th>\n",
       "      <th>ENSG00000198695</th>\n",
       "      <th>ENSG00000198727</th>\n",
       "      <th>ENSG00000273748</th>\n",
       "      <th>ENSG00000278817</th>\n",
       "    </tr>\n",
       "  </thead>\n",
       "  <tbody>\n",
       "    <tr>\n",
       "      <th>0</th>\n",
       "      <td>0</td>\n",
       "      <td>0</td>\n",
       "      <td>0</td>\n",
       "      <td>0</td>\n",
       "      <td>0</td>\n",
       "      <td>0</td>\n",
       "      <td>1</td>\n",
       "      <td>0</td>\n",
       "      <td>4</td>\n",
       "      <td>0</td>\n",
       "      <td>...</td>\n",
       "      <td>1</td>\n",
       "      <td>14</td>\n",
       "      <td>6</td>\n",
       "      <td>1</td>\n",
       "      <td>8</td>\n",
       "      <td>8</td>\n",
       "      <td>0</td>\n",
       "      <td>5</td>\n",
       "      <td>0</td>\n",
       "      <td>0</td>\n",
       "    </tr>\n",
       "    <tr>\n",
       "      <th>1</th>\n",
       "      <td>0</td>\n",
       "      <td>0</td>\n",
       "      <td>0</td>\n",
       "      <td>0</td>\n",
       "      <td>0</td>\n",
       "      <td>0</td>\n",
       "      <td>0</td>\n",
       "      <td>0</td>\n",
       "      <td>0</td>\n",
       "      <td>1</td>\n",
       "      <td>...</td>\n",
       "      <td>3</td>\n",
       "      <td>6</td>\n",
       "      <td>6</td>\n",
       "      <td>0</td>\n",
       "      <td>4</td>\n",
       "      <td>2</td>\n",
       "      <td>1</td>\n",
       "      <td>1</td>\n",
       "      <td>0</td>\n",
       "      <td>0</td>\n",
       "    </tr>\n",
       "    <tr>\n",
       "      <th>2</th>\n",
       "      <td>0</td>\n",
       "      <td>0</td>\n",
       "      <td>0</td>\n",
       "      <td>0</td>\n",
       "      <td>0</td>\n",
       "      <td>0</td>\n",
       "      <td>0</td>\n",
       "      <td>0</td>\n",
       "      <td>0</td>\n",
       "      <td>0</td>\n",
       "      <td>...</td>\n",
       "      <td>10</td>\n",
       "      <td>23</td>\n",
       "      <td>19</td>\n",
       "      <td>0</td>\n",
       "      <td>19</td>\n",
       "      <td>8</td>\n",
       "      <td>0</td>\n",
       "      <td>7</td>\n",
       "      <td>0</td>\n",
       "      <td>0</td>\n",
       "    </tr>\n",
       "    <tr>\n",
       "      <th>3</th>\n",
       "      <td>0</td>\n",
       "      <td>0</td>\n",
       "      <td>0</td>\n",
       "      <td>0</td>\n",
       "      <td>1</td>\n",
       "      <td>0</td>\n",
       "      <td>0</td>\n",
       "      <td>0</td>\n",
       "      <td>0</td>\n",
       "      <td>1</td>\n",
       "      <td>...</td>\n",
       "      <td>16</td>\n",
       "      <td>22</td>\n",
       "      <td>16</td>\n",
       "      <td>2</td>\n",
       "      <td>15</td>\n",
       "      <td>2</td>\n",
       "      <td>0</td>\n",
       "      <td>6</td>\n",
       "      <td>0</td>\n",
       "      <td>0</td>\n",
       "    </tr>\n",
       "    <tr>\n",
       "      <th>4</th>\n",
       "      <td>0</td>\n",
       "      <td>0</td>\n",
       "      <td>0</td>\n",
       "      <td>0</td>\n",
       "      <td>0</td>\n",
       "      <td>0</td>\n",
       "      <td>0</td>\n",
       "      <td>0</td>\n",
       "      <td>0</td>\n",
       "      <td>0</td>\n",
       "      <td>...</td>\n",
       "      <td>10</td>\n",
       "      <td>13</td>\n",
       "      <td>8</td>\n",
       "      <td>0</td>\n",
       "      <td>17</td>\n",
       "      <td>6</td>\n",
       "      <td>0</td>\n",
       "      <td>8</td>\n",
       "      <td>0</td>\n",
       "      <td>0</td>\n",
       "    </tr>\n",
       "  </tbody>\n",
       "</table>\n",
       "<p>5 rows × 10310 columns</p>\n",
       "</div>"
      ],
      "text/plain": [
       "   ENSG00000279457  ENSG00000228463  ENSG00000237491  ENSG00000230368  \\\n",
       "0                0                0                0                0   \n",
       "1                0                0                0                0   \n",
       "2                0                0                0                0   \n",
       "3                0                0                0                0   \n",
       "4                0                0                0                0   \n",
       "\n",
       "   ENSG00000188976  ENSG00000188290  ENSG00000187608  ENSG00000186891  \\\n",
       "0                0                0                1                0   \n",
       "1                0                0                0                0   \n",
       "2                0                0                0                0   \n",
       "3                1                0                0                0   \n",
       "4                0                0                0                0   \n",
       "\n",
       "   ENSG00000186827  ENSG00000078808  ...  ENSG00000198899  ENSG00000198938  \\\n",
       "0                4                0  ...                1               14   \n",
       "1                0                1  ...                3                6   \n",
       "2                0                0  ...               10               23   \n",
       "3                0                1  ...               16               22   \n",
       "4                0                0  ...               10               13   \n",
       "\n",
       "   ENSG00000198840  ENSG00000212907  ENSG00000198886  ENSG00000198786  \\\n",
       "0                6                1                8                8   \n",
       "1                6                0                4                2   \n",
       "2               19                0               19                8   \n",
       "3               16                2               15                2   \n",
       "4                8                0               17                6   \n",
       "\n",
       "   ENSG00000198695  ENSG00000198727  ENSG00000273748  ENSG00000278817  \n",
       "0                0                5                0                0  \n",
       "1                1                1                0                0  \n",
       "2                0                7                0                0  \n",
       "3                0                6                0                0  \n",
       "4                0                8                0                0  \n",
       "\n",
       "[5 rows x 10310 columns]"
      ]
     },
     "execution_count": 9,
     "metadata": {},
     "output_type": "execute_result"
    }
   ],
   "source": [
    "expression.head()"
   ]
  },
  {
   "cell_type": "code",
   "execution_count": 11,
   "metadata": {},
   "outputs": [
    {
     "data": {
      "text/plain": [
       "(12039, 10310)"
      ]
     },
     "execution_count": 11,
     "metadata": {},
     "output_type": "execute_result"
    }
   ],
   "source": [
    "expression.shape"
   ]
  },
  {
   "cell_type": "markdown",
   "metadata": {},
   "source": [
    "## Load selected gene"
   ]
  },
  {
   "cell_type": "code",
   "execution_count": 10,
   "metadata": {},
   "outputs": [],
   "source": [
    "micro_array_result = pd.read_csv('/home/jzhaoaz/jiazhao/scPI_v2/package/datasets/pbmc/gene_info.csv')"
   ]
  },
  {
   "cell_type": "code",
   "execution_count": 13,
   "metadata": {},
   "outputs": [
    {
     "data": {
      "text/html": [
       "<div>\n",
       "<style scoped>\n",
       "    .dataframe tbody tr th:only-of-type {\n",
       "        vertical-align: middle;\n",
       "    }\n",
       "\n",
       "    .dataframe tbody tr th {\n",
       "        vertical-align: top;\n",
       "    }\n",
       "\n",
       "    .dataframe thead th {\n",
       "        text-align: right;\n",
       "    }\n",
       "</style>\n",
       "<table border=\"1\" class=\"dataframe\">\n",
       "  <thead>\n",
       "    <tr style=\"text-align: right;\">\n",
       "      <th></th>\n",
       "      <th>Unnamed: 0</th>\n",
       "      <th>ENSG</th>\n",
       "      <th>GS</th>\n",
       "      <th>CD_logFC</th>\n",
       "      <th>CD_AveExpr</th>\n",
       "      <th>CD_t</th>\n",
       "      <th>CD_P.Value</th>\n",
       "      <th>CD_adj.P.Val</th>\n",
       "      <th>CD_B</th>\n",
       "      <th>BDC_logFC</th>\n",
       "      <th>...</th>\n",
       "      <th>BDC_t</th>\n",
       "      <th>BDC_P.Value</th>\n",
       "      <th>BDC_adj.P.Val</th>\n",
       "      <th>BDC_B</th>\n",
       "      <th>BDC2_logFC</th>\n",
       "      <th>BDC2_AveExpr</th>\n",
       "      <th>BDC2_t</th>\n",
       "      <th>BDC2_P.Value</th>\n",
       "      <th>BDC2_adj.P.Val</th>\n",
       "      <th>BDC2_B</th>\n",
       "    </tr>\n",
       "  </thead>\n",
       "  <tbody>\n",
       "    <tr>\n",
       "      <th>0</th>\n",
       "      <td>5</td>\n",
       "      <td>ENSG00000188976</td>\n",
       "      <td>NOC2L</td>\n",
       "      <td>0.248976</td>\n",
       "      <td>4.193230</td>\n",
       "      <td>1.308282</td>\n",
       "      <td>0.201059</td>\n",
       "      <td>0.478547</td>\n",
       "      <td>-5.465606</td>\n",
       "      <td>0.023141</td>\n",
       "      <td>...</td>\n",
       "      <td>0.199196</td>\n",
       "      <td>0.844018</td>\n",
       "      <td>0.936848</td>\n",
       "      <td>-6.964569</td>\n",
       "      <td>0.532702</td>\n",
       "      <td>5.985696</td>\n",
       "      <td>1.671825</td>\n",
       "      <td>0.116222</td>\n",
       "      <td>0.148453</td>\n",
       "      <td>-6.166109</td>\n",
       "    </tr>\n",
       "    <tr>\n",
       "      <th>1</th>\n",
       "      <td>7</td>\n",
       "      <td>ENSG00000187608</td>\n",
       "      <td>ISG15</td>\n",
       "      <td>-0.036463</td>\n",
       "      <td>5.769094</td>\n",
       "      <td>-0.216990</td>\n",
       "      <td>0.829737</td>\n",
       "      <td>0.919775</td>\n",
       "      <td>-6.272810</td>\n",
       "      <td>0.987879</td>\n",
       "      <td>...</td>\n",
       "      <td>3.449654</td>\n",
       "      <td>0.002391</td>\n",
       "      <td>0.019573</td>\n",
       "      <td>-2.095965</td>\n",
       "      <td>0.933572</td>\n",
       "      <td>6.303954</td>\n",
       "      <td>2.202136</td>\n",
       "      <td>0.044485</td>\n",
       "      <td>0.062851</td>\n",
       "      <td>-5.300666</td>\n",
       "    </tr>\n",
       "    <tr>\n",
       "      <th>2</th>\n",
       "      <td>36</td>\n",
       "      <td>ENSG00000149527</td>\n",
       "      <td>PLCH2</td>\n",
       "      <td>0.505600</td>\n",
       "      <td>3.225463</td>\n",
       "      <td>1.834575</td>\n",
       "      <td>0.076854</td>\n",
       "      <td>0.327638</td>\n",
       "      <td>-4.707168</td>\n",
       "      <td>-0.119499</td>\n",
       "      <td>...</td>\n",
       "      <td>-1.014781</td>\n",
       "      <td>0.321715</td>\n",
       "      <td>0.598441</td>\n",
       "      <td>-6.463128</td>\n",
       "      <td>-0.977612</td>\n",
       "      <td>4.232389</td>\n",
       "      <td>-3.119639</td>\n",
       "      <td>0.007349</td>\n",
       "      <td>0.012455</td>\n",
       "      <td>-3.569136</td>\n",
       "    </tr>\n",
       "    <tr>\n",
       "      <th>3</th>\n",
       "      <td>37</td>\n",
       "      <td>ENSG00000157881</td>\n",
       "      <td>PANK4</td>\n",
       "      <td>-0.093142</td>\n",
       "      <td>4.319701</td>\n",
       "      <td>-0.772409</td>\n",
       "      <td>0.446126</td>\n",
       "      <td>0.686981</td>\n",
       "      <td>-6.001137</td>\n",
       "      <td>0.024259</td>\n",
       "      <td>...</td>\n",
       "      <td>0.111785</td>\n",
       "      <td>0.912052</td>\n",
       "      <td>0.963969</td>\n",
       "      <td>-6.978668</td>\n",
       "      <td>0.183735</td>\n",
       "      <td>6.453772</td>\n",
       "      <td>1.306024</td>\n",
       "      <td>0.212100</td>\n",
       "      <td>0.252955</td>\n",
       "      <td>-6.668252</td>\n",
       "    </tr>\n",
       "    <tr>\n",
       "      <th>4</th>\n",
       "      <td>40</td>\n",
       "      <td>ENSG00000157873</td>\n",
       "      <td>TNFRSF14</td>\n",
       "      <td>0.073292</td>\n",
       "      <td>4.949553</td>\n",
       "      <td>0.353608</td>\n",
       "      <td>0.726192</td>\n",
       "      <td>0.865967</td>\n",
       "      <td>-6.233949</td>\n",
       "      <td>-0.377352</td>\n",
       "      <td>...</td>\n",
       "      <td>-2.465162</td>\n",
       "      <td>0.022361</td>\n",
       "      <td>0.106855</td>\n",
       "      <td>-4.215261</td>\n",
       "      <td>-0.075492</td>\n",
       "      <td>6.920026</td>\n",
       "      <td>-0.540324</td>\n",
       "      <td>0.597263</td>\n",
       "      <td>0.639609</td>\n",
       "      <td>-7.373536</td>\n",
       "    </tr>\n",
       "  </tbody>\n",
       "</table>\n",
       "<p>5 rows × 21 columns</p>\n",
       "</div>"
      ],
      "text/plain": [
       "   Unnamed: 0             ENSG        GS  CD_logFC  CD_AveExpr      CD_t  \\\n",
       "0           5  ENSG00000188976     NOC2L  0.248976    4.193230  1.308282   \n",
       "1           7  ENSG00000187608     ISG15 -0.036463    5.769094 -0.216990   \n",
       "2          36  ENSG00000149527     PLCH2  0.505600    3.225463  1.834575   \n",
       "3          37  ENSG00000157881     PANK4 -0.093142    4.319701 -0.772409   \n",
       "4          40  ENSG00000157873  TNFRSF14  0.073292    4.949553  0.353608   \n",
       "\n",
       "   CD_P.Value  CD_adj.P.Val      CD_B  BDC_logFC  ...     BDC_t  BDC_P.Value  \\\n",
       "0    0.201059      0.478547 -5.465606   0.023141  ...  0.199196     0.844018   \n",
       "1    0.829737      0.919775 -6.272810   0.987879  ...  3.449654     0.002391   \n",
       "2    0.076854      0.327638 -4.707168  -0.119499  ... -1.014781     0.321715   \n",
       "3    0.446126      0.686981 -6.001137   0.024259  ...  0.111785     0.912052   \n",
       "4    0.726192      0.865967 -6.233949  -0.377352  ... -2.465162     0.022361   \n",
       "\n",
       "   BDC_adj.P.Val     BDC_B  BDC2_logFC  BDC2_AveExpr    BDC2_t  BDC2_P.Value  \\\n",
       "0       0.936848 -6.964569    0.532702      5.985696  1.671825      0.116222   \n",
       "1       0.019573 -2.095965    0.933572      6.303954  2.202136      0.044485   \n",
       "2       0.598441 -6.463128   -0.977612      4.232389 -3.119639      0.007349   \n",
       "3       0.963969 -6.978668    0.183735      6.453772  1.306024      0.212100   \n",
       "4       0.106855 -4.215261   -0.075492      6.920026 -0.540324      0.597263   \n",
       "\n",
       "   BDC2_adj.P.Val    BDC2_B  \n",
       "0        0.148453 -6.166109  \n",
       "1        0.062851 -5.300666  \n",
       "2        0.012455 -3.569136  \n",
       "3        0.252955 -6.668252  \n",
       "4        0.639609 -7.373536  \n",
       "\n",
       "[5 rows x 21 columns]"
      ]
     },
     "execution_count": 13,
     "metadata": {},
     "output_type": "execute_result"
    }
   ],
   "source": [
    "micro_array_result.head()"
   ]
  },
  {
   "cell_type": "code",
   "execution_count": 12,
   "metadata": {},
   "outputs": [
    {
     "data": {
      "text/plain": [
       "(3346, 21)"
      ]
     },
     "execution_count": 12,
     "metadata": {},
     "output_type": "execute_result"
    }
   ],
   "source": [
    "micro_array_result.shape"
   ]
  },
  {
   "cell_type": "markdown",
   "metadata": {},
   "source": [
    "## Merged expression data"
   ]
  },
  {
   "cell_type": "code",
   "execution_count": 14,
   "metadata": {},
   "outputs": [],
   "source": [
    "expression = expression[micro_array_result[\"ENSG\"]]"
   ]
  },
  {
   "cell_type": "code",
   "execution_count": 15,
   "metadata": {},
   "outputs": [
    {
     "data": {
      "text/html": [
       "<div>\n",
       "<style scoped>\n",
       "    .dataframe tbody tr th:only-of-type {\n",
       "        vertical-align: middle;\n",
       "    }\n",
       "\n",
       "    .dataframe tbody tr th {\n",
       "        vertical-align: top;\n",
       "    }\n",
       "\n",
       "    .dataframe thead th {\n",
       "        text-align: right;\n",
       "    }\n",
       "</style>\n",
       "<table border=\"1\" class=\"dataframe\">\n",
       "  <thead>\n",
       "    <tr style=\"text-align: right;\">\n",
       "      <th></th>\n",
       "      <th>ENSG00000188976</th>\n",
       "      <th>ENSG00000187608</th>\n",
       "      <th>ENSG00000149527</th>\n",
       "      <th>ENSG00000157881</th>\n",
       "      <th>ENSG00000157873</th>\n",
       "      <th>ENSG00000130764</th>\n",
       "      <th>ENSG00000198912</th>\n",
       "      <th>ENSG00000162408</th>\n",
       "      <th>ENSG00000204859</th>\n",
       "      <th>ENSG00000162413</th>\n",
       "      <th>...</th>\n",
       "      <th>ENSG00000160193</th>\n",
       "      <th>ENSG00000160201</th>\n",
       "      <th>ENSG00000160213</th>\n",
       "      <th>ENSG00000160216</th>\n",
       "      <th>ENSG00000160224</th>\n",
       "      <th>ENSG00000183255</th>\n",
       "      <th>ENSG00000160255</th>\n",
       "      <th>ENSG00000160299</th>\n",
       "      <th>ENSG00000160305</th>\n",
       "      <th>ENSG00000160307</th>\n",
       "    </tr>\n",
       "  </thead>\n",
       "  <tbody>\n",
       "    <tr>\n",
       "      <th>0</th>\n",
       "      <td>0</td>\n",
       "      <td>1</td>\n",
       "      <td>0</td>\n",
       "      <td>0</td>\n",
       "      <td>0</td>\n",
       "      <td>0</td>\n",
       "      <td>0</td>\n",
       "      <td>1</td>\n",
       "      <td>0</td>\n",
       "      <td>0</td>\n",
       "      <td>...</td>\n",
       "      <td>0</td>\n",
       "      <td>0</td>\n",
       "      <td>0</td>\n",
       "      <td>0</td>\n",
       "      <td>0</td>\n",
       "      <td>0</td>\n",
       "      <td>3</td>\n",
       "      <td>0</td>\n",
       "      <td>0</td>\n",
       "      <td>0</td>\n",
       "    </tr>\n",
       "    <tr>\n",
       "      <th>1</th>\n",
       "      <td>0</td>\n",
       "      <td>0</td>\n",
       "      <td>0</td>\n",
       "      <td>0</td>\n",
       "      <td>0</td>\n",
       "      <td>0</td>\n",
       "      <td>0</td>\n",
       "      <td>0</td>\n",
       "      <td>0</td>\n",
       "      <td>0</td>\n",
       "      <td>...</td>\n",
       "      <td>0</td>\n",
       "      <td>0</td>\n",
       "      <td>1</td>\n",
       "      <td>0</td>\n",
       "      <td>0</td>\n",
       "      <td>0</td>\n",
       "      <td>0</td>\n",
       "      <td>0</td>\n",
       "      <td>0</td>\n",
       "      <td>0</td>\n",
       "    </tr>\n",
       "    <tr>\n",
       "      <th>2</th>\n",
       "      <td>0</td>\n",
       "      <td>0</td>\n",
       "      <td>0</td>\n",
       "      <td>0</td>\n",
       "      <td>0</td>\n",
       "      <td>0</td>\n",
       "      <td>0</td>\n",
       "      <td>0</td>\n",
       "      <td>0</td>\n",
       "      <td>0</td>\n",
       "      <td>...</td>\n",
       "      <td>0</td>\n",
       "      <td>0</td>\n",
       "      <td>1</td>\n",
       "      <td>0</td>\n",
       "      <td>0</td>\n",
       "      <td>0</td>\n",
       "      <td>4</td>\n",
       "      <td>0</td>\n",
       "      <td>0</td>\n",
       "      <td>0</td>\n",
       "    </tr>\n",
       "    <tr>\n",
       "      <th>3</th>\n",
       "      <td>1</td>\n",
       "      <td>0</td>\n",
       "      <td>0</td>\n",
       "      <td>0</td>\n",
       "      <td>0</td>\n",
       "      <td>0</td>\n",
       "      <td>0</td>\n",
       "      <td>0</td>\n",
       "      <td>0</td>\n",
       "      <td>0</td>\n",
       "      <td>...</td>\n",
       "      <td>0</td>\n",
       "      <td>0</td>\n",
       "      <td>2</td>\n",
       "      <td>0</td>\n",
       "      <td>0</td>\n",
       "      <td>0</td>\n",
       "      <td>3</td>\n",
       "      <td>0</td>\n",
       "      <td>1</td>\n",
       "      <td>0</td>\n",
       "    </tr>\n",
       "    <tr>\n",
       "      <th>4</th>\n",
       "      <td>0</td>\n",
       "      <td>0</td>\n",
       "      <td>0</td>\n",
       "      <td>0</td>\n",
       "      <td>0</td>\n",
       "      <td>0</td>\n",
       "      <td>0</td>\n",
       "      <td>0</td>\n",
       "      <td>0</td>\n",
       "      <td>0</td>\n",
       "      <td>...</td>\n",
       "      <td>0</td>\n",
       "      <td>0</td>\n",
       "      <td>2</td>\n",
       "      <td>0</td>\n",
       "      <td>0</td>\n",
       "      <td>0</td>\n",
       "      <td>3</td>\n",
       "      <td>0</td>\n",
       "      <td>0</td>\n",
       "      <td>0</td>\n",
       "    </tr>\n",
       "  </tbody>\n",
       "</table>\n",
       "<p>5 rows × 3346 columns</p>\n",
       "</div>"
      ],
      "text/plain": [
       "   ENSG00000188976  ENSG00000187608  ENSG00000149527  ENSG00000157881  \\\n",
       "0                0                1                0                0   \n",
       "1                0                0                0                0   \n",
       "2                0                0                0                0   \n",
       "3                1                0                0                0   \n",
       "4                0                0                0                0   \n",
       "\n",
       "   ENSG00000157873  ENSG00000130764  ENSG00000198912  ENSG00000162408  \\\n",
       "0                0                0                0                1   \n",
       "1                0                0                0                0   \n",
       "2                0                0                0                0   \n",
       "3                0                0                0                0   \n",
       "4                0                0                0                0   \n",
       "\n",
       "   ENSG00000204859  ENSG00000162413  ...  ENSG00000160193  ENSG00000160201  \\\n",
       "0                0                0  ...                0                0   \n",
       "1                0                0  ...                0                0   \n",
       "2                0                0  ...                0                0   \n",
       "3                0                0  ...                0                0   \n",
       "4                0                0  ...                0                0   \n",
       "\n",
       "   ENSG00000160213  ENSG00000160216  ENSG00000160224  ENSG00000183255  \\\n",
       "0                0                0                0                0   \n",
       "1                1                0                0                0   \n",
       "2                1                0                0                0   \n",
       "3                2                0                0                0   \n",
       "4                2                0                0                0   \n",
       "\n",
       "   ENSG00000160255  ENSG00000160299  ENSG00000160305  ENSG00000160307  \n",
       "0                3                0                0                0  \n",
       "1                0                0                0                0  \n",
       "2                4                0                0                0  \n",
       "3                3                0                1                0  \n",
       "4                3                0                0                0  \n",
       "\n",
       "[5 rows x 3346 columns]"
      ]
     },
     "execution_count": 15,
     "metadata": {},
     "output_type": "execute_result"
    }
   ],
   "source": [
    "expression.head()"
   ]
  },
  {
   "cell_type": "code",
   "execution_count": 16,
   "metadata": {},
   "outputs": [
    {
     "data": {
      "text/plain": [
       "(12039, 3346)"
      ]
     },
     "execution_count": 16,
     "metadata": {},
     "output_type": "execute_result"
    }
   ],
   "source": [
    "expression.shape"
   ]
  },
  {
   "cell_type": "markdown",
   "metadata": {},
   "source": [
    "## Load bio info"
   ]
  },
  {
   "cell_type": "code",
   "execution_count": 17,
   "metadata": {},
   "outputs": [],
   "source": [
    "data_path = \"/home/jzhaoaz/jiazhao/scPI_v2/package/datasets/pbmc/\""
   ]
  },
  {
   "cell_type": "code",
   "execution_count": 18,
   "metadata": {},
   "outputs": [],
   "source": [
    "design = pd.read_csv(data_path + \"design.csv\", index_col=0)\n",
    "dim_names = [\"WPC\"+str(i) for i in range(1, 8)]\n",
    "qc_pc = design[dim_names].values\n",
    "normalized_qc = pd.read_csv(data_path + \"full_qc.csv\", index_col=0)\n",
    "barcodes = pd.read_csv(data_path + \"barcodes.csv\", index_col=1)\n",
    "batch = pd.read_csv(data_path + \"batch.csv\", index_col=0)"
   ]
  },
  {
   "cell_type": "code",
   "execution_count": 19,
   "metadata": {},
   "outputs": [],
   "source": [
    "raw_qc_8 = pd.read_csv(\"/home/jzhaoaz/jiazhao/scPI_v2/package/datasets/pbmc/molecule_qc_8k.txt\", index_col=0, sep=\"\\t\")\n",
    "raw_qc_8.index = raw_qc_8.index.map(lambda s: s+\"-1\")\n",
    "raw_qc_4 = pd.read_csv(\"/home/jzhaoaz/jiazhao/scPI_v2/package/datasets/pbmc/molecule_qc_4k.txt\", index_col=0, sep=\"\\t\")\n",
    "raw_qc_8 = raw_qc_8.loc[barcodes.iloc[np.where(batch[\"x\"] == \"pbmc8k\")[0], :].index.values]\n",
    "number_suffix = barcodes.iloc[np.where(batch[\"x\"] == \"pbmc4k\")[0], :].index.map(lambda s: str(s.split(\"-\")[1])).values\n",
    "barcode_prefix = barcodes.iloc[np.where(batch[\"x\"] == \"pbmc4k\")[0], :].index.map(lambda s: str(s.split(\"-\")[0])).values\n",
    "raw_qc_4 = raw_qc_4.loc[barcode_prefix]\n",
    "raw_qc_4.index = raw_qc_4.index +\"-\" +number_suffix"
   ]
  },
  {
   "cell_type": "code",
   "execution_count": 20,
   "metadata": {},
   "outputs": [
    {
     "data": {
      "text/plain": [
       "((12039, 7), (12039, 9), (12039, 9), (12039, 1))"
      ]
     },
     "execution_count": 20,
     "metadata": {},
     "output_type": "execute_result"
    }
   ],
   "source": [
    "raw_qc = pd.concat((raw_qc_8, raw_qc_4)).loc[barcodes.index]\n",
    "qc_pc.shape, normalized_qc.shape, raw_qc.shape, batch.shape"
   ]
  },
  {
   "cell_type": "code",
   "execution_count": 21,
   "metadata": {},
   "outputs": [
    {
     "data": {
      "text/plain": [
       "2    5024\n",
       "1    2237\n",
       "0    1625\n",
       "3    1452\n",
       "8     464\n",
       "7     459\n",
       "5     351\n",
       "4     339\n",
       "6      88\n",
       "Name: x, dtype: int64"
      ]
     },
     "execution_count": 21,
     "metadata": {},
     "output_type": "execute_result"
    }
   ],
   "source": [
    "bio = pd.read_csv(data_path + \"bio.csv\", index_col=0)\n",
    "list_clusters = np.unique(bio[\"x\"])\n",
    "def string_to_cluster(string):\n",
    "    return np.where(list_clusters == string)[0][0]\n",
    "data_bio = bio[\"x\"].apply(lambda i: string_to_cluster(i))\n",
    "clusters = data_bio.values\n",
    "data_bio.value_counts()"
   ]
  },
  {
   "cell_type": "code",
   "execution_count": 22,
   "metadata": {},
   "outputs": [
    {
     "data": {
      "text/plain": [
       "array(['B cells', 'CD14+ Monocytes', 'CD4 T cells', 'CD8 T cells',\n",
       "       'Dendritic Cells', 'FCGR3A+ Monocytes', 'Megakaryocytes',\n",
       "       'NK cells', 'Other'], dtype=object)"
      ]
     },
     "execution_count": 22,
     "metadata": {},
     "output_type": "execute_result"
    }
   ],
   "source": [
    "list_clusters # From 0 to 8"
   ]
  },
  {
   "cell_type": "code",
   "execution_count": 23,
   "metadata": {},
   "outputs": [
    {
     "data": {
      "text/plain": [
       "1        2\n",
       "2        2\n",
       "3        1\n",
       "4        1\n",
       "5        3\n",
       "        ..\n",
       "12035    1\n",
       "12036    3\n",
       "12037    7\n",
       "12038    0\n",
       "12039    1\n",
       "Name: x, Length: 12039, dtype: int64"
      ]
     },
     "execution_count": 23,
     "metadata": {},
     "output_type": "execute_result"
    }
   ],
   "source": [
    "data_bio"
   ]
  },
  {
   "cell_type": "code",
   "execution_count": 24,
   "metadata": {},
   "outputs": [],
   "source": [
    "_, batch = np.unique(batch, return_inverse=True)"
   ]
  },
  {
   "cell_type": "markdown",
   "metadata": {},
   "source": [
    "## Separate training and testing data"
   ]
  },
  {
   "cell_type": "code",
   "execution_count": 25,
   "metadata": {},
   "outputs": [],
   "source": [
    "expression_np = np.array(expression)"
   ]
  },
  {
   "cell_type": "code",
   "execution_count": 26,
   "metadata": {},
   "outputs": [
    {
     "data": {
      "text/plain": [
       "(12039, 3346)"
      ]
     },
     "execution_count": 26,
     "metadata": {},
     "output_type": "execute_result"
    }
   ],
   "source": [
    "expression_np.shape"
   ]
  },
  {
   "cell_type": "code",
   "execution_count": 27,
   "metadata": {},
   "outputs": [],
   "source": [
    "X_train, X_test, \\\n",
    "c_train, c_test, \\\n",
    "r_train, r_test, \\\n",
    "b_train, b_test, \\\n",
    "qc_train, qc_test = \\\n",
    "                train_test_split(expression_np, clusters, qc_pc, \\\n",
    "                                 batch, raw_qc.values, random_state=0)"
   ]
  },
  {
   "cell_type": "code",
   "execution_count": 28,
   "metadata": {},
   "outputs": [
    {
     "data": {
      "text/plain": [
       "((9029, 3346), (3010, 3346))"
      ]
     },
     "execution_count": 28,
     "metadata": {},
     "output_type": "execute_result"
    }
   ],
   "source": [
    "X_train.shape, X_test.shape"
   ]
  },
  {
   "cell_type": "code",
   "execution_count": 29,
   "metadata": {},
   "outputs": [
    {
     "data": {
      "text/plain": [
       "((9029,), (3010,))"
      ]
     },
     "execution_count": 29,
     "metadata": {},
     "output_type": "execute_result"
    }
   ],
   "source": [
    "c_train.shape, c_test.shape"
   ]
  },
  {
   "cell_type": "code",
   "execution_count": 30,
   "metadata": {},
   "outputs": [],
   "source": [
    "data_path = \"/home/jzhaoaz/jiazhao/scPI_v2/package/datasets/pbmc/\"\n",
    "np.savetxt(data_path + \"data_train\", X_train)\n",
    "np.savetxt(data_path + \"data_test\", X_test)\n",
    "\n",
    "np.savetxt(data_path + \"label_train\", c_train)\n",
    "np.savetxt(data_path + \"label_test\", c_test)\n",
    "\n",
    "np.savetxt(data_path + \"b_train\", b_train)\n",
    "np.savetxt(data_path + \"b_test\", b_test)\n",
    "\n",
    "np.savetxt(data_path + \"design_train\", r_train)\n",
    "np.savetxt(data_path + \"design_test\", r_test)\n",
    "\n",
    "np.savetxt(data_path + \"qc_train\", qc_train)\n",
    "np.savetxt(data_path + \"qc_test\", qc_test)"
   ]
  },
  {
   "cell_type": "code",
   "execution_count": null,
   "metadata": {},
   "outputs": [],
   "source": []
  }
 ],
 "metadata": {
  "kernelspec": {
   "display_name": "Python 3",
   "language": "python",
   "name": "python3"
  },
  "language_info": {
   "codemirror_mode": {
    "name": "ipython",
    "version": 3
   },
   "file_extension": ".py",
   "mimetype": "text/x-python",
   "name": "python",
   "nbconvert_exporter": "python",
   "pygments_lexer": "ipython3",
   "version": "3.7.3"
  }
 },
 "nbformat": 4,
 "nbformat_minor": 2
}
