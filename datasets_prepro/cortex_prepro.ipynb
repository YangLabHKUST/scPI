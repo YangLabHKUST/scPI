{
 "cells": [
  {
   "cell_type": "markdown",
   "metadata": {},
   "source": [
    "## Cortex preprocessing"
   ]
  },
  {
   "cell_type": "markdown",
   "metadata": {},
   "source": [
    "We follow the preprocessing code from scVI (https://github.com/romain-lopez/scVI-reproducibility/blob/master/CORTEX-prepro.ipynb). \n",
    "\n",
    "Before running this notebook, users need to download the raw data (expression_mRNA_17-Aug-2014.txt) at https://storage.googleapis.com/linnarsson-lab-www-blobs/blobs/cortex/expression_mRNA_17-Aug-2014.txt, and store it locally at “datasets/cortex/expression_mRNA_17-Aug-2014.txt”"
   ]
  },
  {
   "cell_type": "code",
   "execution_count": 1,
   "metadata": {},
   "outputs": [],
   "source": [
    "import pandas as pd\n",
    "import numpy as np\n",
    "from sklearn.model_selection import train_test_split"
   ]
  },
  {
   "cell_type": "code",
   "execution_count": 2,
   "metadata": {},
   "outputs": [],
   "source": [
    "data_path = \"/home/jzhaoaz/jiazhao/scPI_v2/package/datasets/cortex/\""
   ]
  },
  {
   "cell_type": "markdown",
   "metadata": {},
   "source": [
    "### Load data"
   ]
  },
  {
   "cell_type": "code",
   "execution_count": 3,
   "metadata": {},
   "outputs": [],
   "source": [
    "X = pd.read_csv(data_path + \"expression_mRNA_17-Aug-2014.txt\", sep=\"\\t\", low_memory=False).T\n",
    "clusters = np.array(X[7], dtype=str)[2:]\n",
    "celltypes, labels = np.unique(clusters, return_inverse=True)\n",
    "gene_names = np.array(X.iloc[0], dtype=str)[10:]\n",
    "X = X.loc[:, 10:]\n",
    "X = X.drop(X.index[0])\n",
    "expression = np.array(X, dtype=np.int)[1:]"
   ]
  },
  {
   "cell_type": "code",
   "execution_count": 4,
   "metadata": {},
   "outputs": [
    {
     "name": "stdout",
     "output_type": "stream",
     "text": [
      "3005 cells with 19972 genes.\n"
     ]
    }
   ],
   "source": [
    "print(expression.shape[0], \"cells with\", expression.shape[1], \"genes.\")"
   ]
  },
  {
   "cell_type": "code",
   "execution_count": 5,
   "metadata": {},
   "outputs": [
    {
     "name": "stdout",
     "output_type": "stream",
     "text": [
      "(3005, 558)\n"
     ]
    }
   ],
   "source": [
    "selected = np.std(expression, axis=0).argsort()[-558:][::-1]\n",
    "expression = expression[:, selected]\n",
    "gene_names = gene_names[selected].astype(str)\n",
    "print(expression.shape)"
   ]
  },
  {
   "cell_type": "markdown",
   "metadata": {},
   "source": [
    "### Split training and testing datasets"
   ]
  },
  {
   "cell_type": "code",
   "execution_count": 6,
   "metadata": {},
   "outputs": [],
   "source": [
    "X_train, X_test, c_train, c_test = train_test_split(expression, labels, random_state=0)"
   ]
  },
  {
   "cell_type": "code",
   "execution_count": 7,
   "metadata": {},
   "outputs": [
    {
     "name": "stdout",
     "output_type": "stream",
     "text": [
      "(2253, 558) (752, 558) (2253,) (752,)\n"
     ]
    }
   ],
   "source": [
    "print(X_train.shape, X_test.shape, c_train.shape, c_test.shape)"
   ]
  },
  {
   "cell_type": "code",
   "execution_count": 8,
   "metadata": {},
   "outputs": [],
   "source": [
    "np.savetxt(data_path + \"data_train\", X_train)\n",
    "np.savetxt(data_path + \"data_test\", X_test)\n",
    "np.savetxt(data_path + \"label_train\", c_train)\n",
    "np.savetxt(data_path + \"label_test\", c_test)"
   ]
  },
  {
   "cell_type": "markdown",
   "metadata": {},
   "source": [
    "### Mask counts for imputation"
   ]
  },
  {
   "cell_type": "code",
   "execution_count": 9,
   "metadata": {},
   "outputs": [],
   "source": [
    "expression_train = np.loadtxt(data_path + \"data_train\", dtype='float32')\n",
    "X_zero = np.copy(expression_train)\n",
    "i,j = np.nonzero(X_zero)\n",
    "ix = np.random.choice(range(len(i)), int(np.floor(0.1 * len(i))), replace=False)\n",
    "X_zero[i[ix], j[ix]] *= 0.0"
   ]
  },
  {
   "cell_type": "code",
   "execution_count": 10,
   "metadata": {},
   "outputs": [],
   "source": [
    "np.savetxt(data_path + \"X_zero.txt\", X_zero)\n",
    "np.savetxt(data_path + \"i.txt\", i)\n",
    "np.savetxt(data_path + \"j.txt\", j)\n",
    "np.savetxt(data_path + \"ix.txt\", ix)"
   ]
  },
  {
   "cell_type": "code",
   "execution_count": 11,
   "metadata": {},
   "outputs": [],
   "source": [
    "np.save(data_path + \"i.npy\", i)\n",
    "np.save(data_path + \"j.npy\", j)\n",
    "np.save(data_path + \"ix.npy\", ix)"
   ]
  },
  {
   "cell_type": "code",
   "execution_count": null,
   "metadata": {},
   "outputs": [],
   "source": []
  }
 ],
 "metadata": {
  "kernelspec": {
   "display_name": "Python 3",
   "language": "python",
   "name": "python3"
  },
  "language_info": {
   "codemirror_mode": {
    "name": "ipython",
    "version": 3
   },
   "file_extension": ".py",
   "mimetype": "text/x-python",
   "name": "python",
   "nbconvert_exporter": "python",
   "pygments_lexer": "ipython3",
   "version": "3.7.3"
  }
 },
 "nbformat": 4,
 "nbformat_minor": 4
}
